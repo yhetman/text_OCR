{
 "cells": [
  {
   "cell_type": "code",
   "execution_count": 1,
   "metadata": {},
   "outputs": [],
   "source": [
    "import cv2\n",
    "import pytesseract\n",
    "import numpy as np\n",
    "from PIL import Image, ImageChops"
   ]
  },
  {
   "cell_type": "code",
   "execution_count": 12,
   "metadata": {},
   "outputs": [],
   "source": [
    "image_path = 'C:\\\\Users\\\\getma\\\\Desktop\\\\sample2.png'\n",
    "image = cv2.imread(image_path)"
   ]
  },
  {
   "cell_type": "code",
   "execution_count": 13,
   "metadata": {},
   "outputs": [],
   "source": [
    "def isGrayScale(path):\n",
    "    im = Image.open(path).convert('RGB')\n",
    "    w,h = im.size\n",
    "    for i in range(w):\n",
    "        for j in range(h):\n",
    "            r,g,b = im.getpixel((i,j))\n",
    "            if r != g != b: return True\n",
    "    return False"
   ]
  },
  {
   "cell_type": "code",
   "execution_count": 14,
   "metadata": {},
   "outputs": [],
   "source": [
    "ker = np.ones((2,1), np.uint8)"
   ]
  },
  {
   "cell_type": "code",
   "execution_count": 15,
   "metadata": {},
   "outputs": [
    {
     "name": "stdout",
     "output_type": "stream",
     "text": [
      "False\n"
     ]
    }
   ],
   "source": [
    "isGray = isGrayScale(image_path)\n",
    "print (isGray)\n",
    "if isGray == False:\n",
    "    gray = cv2.cvtColor(image, cv2.COLOR_RGB2GRAY)\n",
    "    gray, img_bin = cv2.threshold(gray, 128, 255, cv2.THRESH_BINARY | cv2.THRESH_OTSU)\n",
    "    gray = cv2.bitwise_not(img_bin)\n",
    "    image = cv2.erode(gray, ker, iterations=1)\n",
    "else:\n",
    "    image = cv2.erode(image, ker, iterations=1)"
   ]
  },
  {
   "cell_type": "code",
   "execution_count": 16,
   "metadata": {},
   "outputs": [],
   "source": [
    "image = cv2.dilate(image, ker, iterations=1)"
   ]
  },
  {
   "cell_type": "code",
   "execution_count": 17,
   "metadata": {},
   "outputs": [],
   "source": [
    "pytesseract.pytesseract.tesseract_cmd = r'C:\\\\Program Files\\\\Tesseract-OCR\\\\tesseract.exe'"
   ]
  },
  {
   "cell_type": "code",
   "execution_count": 18,
   "metadata": {},
   "outputs": [],
   "source": [
    "out_below = pytesseract.image_to_string(image)"
   ]
  },
  {
   "cell_type": "code",
   "execution_count": 19,
   "metadata": {},
   "outputs": [
    {
     "name": "stdout",
     "output_type": "stream",
     "text": [
      "RESULT:\n",
      " SCENE FROM “DAN’L DRUCK.’\n",
      "\n",
      "This interesting domestic drama, by Mr. W.8. Gilbert,\n",
      "has continued to engage the sympathies of a nightly\n",
      "sufficient audience at the Haymarket Theatre, where it\n",
      "has now been represented more than sixty times. Its\n",
      "subject and character were described by us, in the\n",
      "ordinary report of theatrical novelties, about two months\n",
      "ago. Our readers will probably not need to be reminded\n",
      "that the hero of the story, Dan’l Druce, the blacksmith,\n",
      "is a solitary recluse dwelling on the coast of Norfolk,\n",
      "where his lone cottage is visited by fugitives from party\n",
      "v-ngeavee during the civil wars of the Commonwealth.\n",
      "Ilis hoard of money is stolen; but a different sort of\n",
      "treasure, a helpless female infant; is left by some mys-\n",
      "terious agency, and may be accepted, as in (eorge\n",
      "Eliot’s tale of “Silas Marner,’ for a Divine gift to the\n",
      "sad-hearted misanthrope, far better than riches. In\n",
      "this spirit, at least, he is content to receive the precious\n",
      "human charge; and so to those who would remove it\n",
      "from his home, Dan’l Druce here makes answer with\n",
      "the solemn exclamation, “Touch not the Lord’s gift!”\n",
      "‘This character is well acted by Mr. Hermann Vezin.\n"
     ]
    }
   ],
   "source": [
    "print(\"RESULT:\\n\", out_below)"
   ]
  },
  {
   "cell_type": "code",
   "execution_count": null,
   "metadata": {},
   "outputs": [],
   "source": [
    "\n",
    "\n",
    "\n",
    "\n",
    "\n"
   ]
  }
 ],
 "metadata": {
  "kernelspec": {
   "display_name": "Python 3",
   "language": "python",
   "name": "python3"
  },
  "language_info": {
   "codemirror_mode": {
    "name": "ipython",
    "version": 3
   },
   "file_extension": ".py",
   "mimetype": "text/x-python",
   "name": "python",
   "nbconvert_exporter": "python",
   "pygments_lexer": "ipython3",
   "version": "3.8.3"
  }
 },
 "nbformat": 4,
 "nbformat_minor": 4
}
