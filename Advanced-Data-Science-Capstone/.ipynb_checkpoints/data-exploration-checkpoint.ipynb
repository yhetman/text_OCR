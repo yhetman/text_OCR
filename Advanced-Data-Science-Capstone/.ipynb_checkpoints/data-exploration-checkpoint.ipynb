{
 "cells": [
  {
   "cell_type": "markdown",
   "metadata": {},
   "source": [
    "# IBM Advanced Data Science Capstone \n",
    "## Recognition of Handwritten in Keras\n",
    "## By Yuliia Hetman"
   ]
  },
  {
   "cell_type": "markdown",
   "metadata": {},
   "source": [
    "## Overview\n",
    "\n",
    "Offline Handwritten Text Recognition (HTR) systems transcribe text contained in scanned images into digital text. Off-line handwriting recognition involves the automatic conversion of text in an image into letter codes which are usable within computer and text-processing applications. The data obtained by this form is regarded as a static representation of handwriting. Off-line handwriting recognition is comparatively difficult, as different people have different handwriting styles.\n",
    "\n",
    "In Deep Learning Convolutional Neural Networks are most commonly applied to analyzing visual imagery. They are also known as shift invariant or space invariant artificial neural networks, based on their shared-weights architecture and translation invariance characteristics. In this notebook I am going to build a Model consists of several Neural Networks which is going to be trained on images of names and surnames, the dataset original resource is https://appen.com.\n",
    "\n",
    "### Dataset Overview\n",
    "\n",
    "This dataset consists of more than four hundred thousand handwritten names collected through charity projects to support disadvantaged children around the world.\n",
    "\n",
    "Character Recognition utilizes image processing technologies to convert characters on scanned documents into digital forms. It typically performs well in machine-printed fonts. However, it still poses difficult challenges for machines to recognize handwritten characters, because of the huge variation in individual writing styles.\n",
    "\n",
    "There are 206,799 first names and 207,024 surnames in total. The data was divided into a training set (331,059), testing set (41,382), and validation set (41,382) respectively.\n",
    "\n",
    "### Dataset Content\n",
    "\n",
    "The input data here are hundreds of thousands of images of handwritten names. In the Data, you’ll find the transcribed images broken up into test, training, and validation sets.\n",
    "\n",
    "Image Lable follow the following naming format enabling you to extend the data set with your own data.\n",
    "\n",
    "Off-line handwriting recognition involves the automatic conversion of text in an image into letter codes which are usable within computer and text-processing applications. The data obtained by this form is regarded as a static representation of handwriting. Off-line handwriting recognition is comparatively difficult, as different people have different handwriting styles.\n",
    "\n",
    "In Deep Learning Convolutional Neural Networks are most commonly applied to analyzing visual imagery. They are also known as shift invariant or space invariant artificial neural networks, based on their shared-weights architecture and translation invariance characteristics. In this notebook I am going to build a Model consists of several Neural Networks which is going to be trained on images of names and surnames, the dataset original resource is https://appen.com.\n",
    " \n",
    "The images in the dataset are already divided into three folders named according to the modeling step of their usage:\n",
    "1. test_v2\n",
    "2. train_v2\n",
    "3. validation_v2\n",
    "\n",
    "Also, there a .csv file for each folder which contains a list of filenames with the corresponding transcribed handwritten name.\n",
    "\n",
    "|    FILENAME   | IDENTITY |\n",
    "|:-------------:|:--------:|\n",
    "| TEST_0001.jpg |   KEVIN  |\n",
    "\n",
    "\n",
    "## Step 1: Data Exploration\n",
    "\n",
    "So, the most important steps are:\n",
    "- identify quality issues (e.g. missing values, wrong measurements, …)\n",
    "- assess feature quality – how relevant is a certain measurement (e.g. use correlation matrix)\n",
    "- get an idea on the value distribution of data using statistical measures and visualizations\n"
   ]
  },
  {
   "cell_type": "code",
   "execution_count": 1,
   "metadata": {
    "scrolled": true
   },
   "outputs": [],
   "source": [
    "#!pip install kaggle"
   ]
  },
  {
   "cell_type": "markdown",
   "metadata": {},
   "source": [
    "### Download and extract the dataset "
   ]
  },
  {
   "cell_type": "code",
   "execution_count": 2,
   "metadata": {},
   "outputs": [],
   "source": [
    "## Downloading dataset\n",
    "#!set -e\n",
    "#!mkdir -p dataset\n",
    "#!kaggle datasets download --force -d landlord/handwriting-recognition"
   ]
  },
  {
   "cell_type": "code",
   "execution_count": 3,
   "metadata": {},
   "outputs": [],
   "source": [
    "#!mv handwriting-recognition.zip ./dataset/\n",
    "#!cd dataset"
   ]
  },
  {
   "cell_type": "code",
   "execution_count": 4,
   "metadata": {},
   "outputs": [],
   "source": [
    "#!unzip handwriting-recognition.zip"
   ]
  },
  {
   "cell_type": "code",
   "execution_count": 5,
   "metadata": {},
   "outputs": [],
   "source": [
    "#!ls dataset/"
   ]
  },
  {
   "cell_type": "markdown",
   "metadata": {},
   "source": [
    "### Importing all we need "
   ]
  },
  {
   "cell_type": "code",
   "execution_count": 6,
   "metadata": {},
   "outputs": [],
   "source": [
    "import os\n",
    "from os import listdir\n",
    "from time import time\n",
    "import sys\n",
    "import re\n",
    "import random\n",
    "import pandas as pd\n",
    "import numpy as np\n",
    "import matplotlib.pyplot as plt\n",
    "%matplotlib inline\n",
    "from colorama import Fore, Back, Style\n",
    "import seaborn as sns\n",
    "\n",
    "from pyspark import SparkContext, SparkConf\n",
    "from pyspark.sql import SQLContext, SparkSession \n",
    "#from pyspark.sql.types import *\n",
    "#from pyspark.sql import Row\n",
    "#from pyspark.sql.functions import *\n",
    "\n",
    "import cv2\n",
    "#import tensorflow as tf\n",
    "#from keras import backend as K\n",
    "#from keras.models import Model\n",
    "#rom keras.layers import Input, Conv2D, MaxPooling2D, Reshape, Bidirectional, LSTM, Dense, Lambda, Activation, BatchNormalization, Dropout\n",
    "#from keras.optimizers import Adam\n",
    "#sns.set()"
   ]
  },
  {
   "cell_type": "code",
   "execution_count": 7,
   "metadata": {},
   "outputs": [],
   "source": [
    "#!pip install opencv-python"
   ]
  },
  {
   "cell_type": "markdown",
   "metadata": {},
   "source": [
    "### Reading comma-separated values files "
   ]
  },
  {
   "cell_type": "code",
   "execution_count": 8,
   "metadata": {},
   "outputs": [
    {
     "data": {
      "text/plain": [
       "['written_name_train_v2.csv',\n",
       " 'test_v2',\n",
       " 'train_v2',\n",
       " 'validation_v2',\n",
       " 'written_name_test_v2.csv',\n",
       " 'written_name_validation_v2.csv']"
      ]
     },
     "execution_count": 8,
     "metadata": {},
     "output_type": "execute_result"
    }
   ],
   "source": [
    "IMAGE_PATH = \"./dataset/\"\n",
    "TRAIN_PATH = IMAGE_PATH + 'train_v2/train/'\n",
    "TEST_PATH = IMAGE_PATH + 'test_v2/test/'\n",
    "VALID_PATH =IMAGE_PATH + 'validation_v2/validation/'\n",
    "list(os.listdir(IMAGE_PATH))"
   ]
  },
  {
   "cell_type": "code",
   "execution_count": 9,
   "metadata": {},
   "outputs": [],
   "source": [
    "train_labels = pd.read_csv(IMAGE_PATH + 'written_name_train_v2.csv')\n",
    "test_labels = pd.read_csv(IMAGE_PATH +'written_name_test_v2.csv')\n",
    "validation_labels = pd.read_csv(IMAGE_PATH + 'written_name_validation_v2.csv')"
   ]
  },
  {
   "cell_type": "code",
   "execution_count": 10,
   "metadata": {},
   "outputs": [],
   "source": [
    "LABELS = [train_labels, test_labels, validation_labels]\n",
    "SETS = ['TRAINING SET', 'TESTING SET', 'VALIDATION SET']"
   ]
  },
  {
   "cell_type": "markdown",
   "metadata": {},
   "source": [
    "### Simple analysis of the data"
   ]
  },
  {
   "cell_type": "code",
   "execution_count": 11,
   "metadata": {},
   "outputs": [
    {
     "name": "stdout",
     "output_type": "stream",
     "text": [
      "\u001b[34mTRAINING SET SHAPE: \u001b[0m (330961, 2)\n",
      "\u001b[34mTESTING SET SHAPE: \u001b[0m (41370, 2)\n",
      "\u001b[34mVALIDATION SET SHAPE: \u001b[0m (41370, 2)\n"
     ]
    },
    {
     "data": {
      "text/html": [
       "<div>\n",
       "<style scoped>\n",
       "    .dataframe tbody tr th:only-of-type {\n",
       "        vertical-align: middle;\n",
       "    }\n",
       "\n",
       "    .dataframe tbody tr th {\n",
       "        vertical-align: top;\n",
       "    }\n",
       "\n",
       "    .dataframe thead th {\n",
       "        text-align: right;\n",
       "    }\n",
       "</style>\n",
       "<table border=\"1\" class=\"dataframe\">\n",
       "  <thead>\n",
       "    <tr style=\"text-align: right;\">\n",
       "      <th></th>\n",
       "      <th>FILENAME</th>\n",
       "      <th>IDENTITY</th>\n",
       "    </tr>\n",
       "  </thead>\n",
       "  <tbody>\n",
       "    <tr>\n",
       "      <th>0</th>\n",
       "      <td>TRAIN_00001.jpg</td>\n",
       "      <td>BALTHAZAR</td>\n",
       "    </tr>\n",
       "    <tr>\n",
       "      <th>1</th>\n",
       "      <td>TRAIN_00002.jpg</td>\n",
       "      <td>SIMON</td>\n",
       "    </tr>\n",
       "    <tr>\n",
       "      <th>2</th>\n",
       "      <td>TRAIN_00003.jpg</td>\n",
       "      <td>BENES</td>\n",
       "    </tr>\n",
       "    <tr>\n",
       "      <th>3</th>\n",
       "      <td>TRAIN_00004.jpg</td>\n",
       "      <td>LA LOVE</td>\n",
       "    </tr>\n",
       "    <tr>\n",
       "      <th>4</th>\n",
       "      <td>TRAIN_00005.jpg</td>\n",
       "      <td>DAPHNE</td>\n",
       "    </tr>\n",
       "  </tbody>\n",
       "</table>\n",
       "</div>"
      ],
      "text/plain": [
       "          FILENAME   IDENTITY\n",
       "0  TRAIN_00001.jpg  BALTHAZAR\n",
       "1  TRAIN_00002.jpg      SIMON\n",
       "2  TRAIN_00003.jpg      BENES\n",
       "3  TRAIN_00004.jpg    LA LOVE\n",
       "4  TRAIN_00005.jpg     DAPHNE"
      ]
     },
     "execution_count": 11,
     "metadata": {},
     "output_type": "execute_result"
    }
   ],
   "source": [
    "for i in range(len(LABELS)):\n",
    "    print(Fore.BLUE + SETS[i],'SHAPE:',Style.RESET_ALL,LABELS[i].shape)\n",
    "train_labels.head(5)"
   ]
  },
  {
   "cell_type": "code",
   "execution_count": 12,
   "metadata": {},
   "outputs": [
    {
     "name": "stdout",
     "output_type": "stream",
     "text": [
      "\u001b[34mTRAINING SET :\n",
      " \u001b[0m              FILENAME\n",
      "IDENTITY             \n",
      "'A'OPES             1\n",
      "'LE BASTARD         1\n",
      "-                   8\n",
      "--                  2\n",
      "-------             2\n",
      "\u001b[34mTESTING SET :\n",
      " \u001b[0m           FILENAME\n",
      "IDENTITY          \n",
      "-                1\n",
      "A                5\n",
      "AABEL            1\n",
      "AADAOU           1\n",
      "AALLIYAN         1\n",
      "\u001b[34mVALIDATION SET :\n",
      " \u001b[0m                 FILENAME\n",
      "IDENTITY                \n",
      "A                      4\n",
      "A LVYNE                1\n",
      "AA                     1\n",
      "AALIAH-ALISSON         1\n",
      "AALIYAH                2\n"
     ]
    }
   ],
   "source": [
    "## check similar names/surnames \n",
    "for i in range(len(LABELS)):\n",
    "    print(Fore.BLUE + SETS[i], \":\\n\",Style.RESET_ALL,LABELS[i].groupby(['IDENTITY']).count()['FILENAME'].to_frame().head())"
   ]
  },
  {
   "cell_type": "code",
   "execution_count": 13,
   "metadata": {},
   "outputs": [
    {
     "data": {
      "image/png": "[encoded data removed]",
      "text/plain": [
       "<Figure size 1080x720 with 6 Axes>"
      ]
     },
     "metadata": {
      "needs_background": "light"
     },
     "output_type": "display_data"
    }
   ],
   "source": [
    "## Plotting some samples\n",
    "\n",
    "plt.figure(figsize=(15, 10))\n",
    "\n",
    "for i in range(6):\n",
    "    ax = plt.subplot(2, 3, i+1)\n",
    "    image_file = TRAIN_PATH + train_labels.loc[i, 'FILENAME']\n",
    "    image = cv2.imread(image_file, cv2.IMREAD_GRAYSCALE)\n",
    "    plt.imshow(image, cmap = 'gray')\n",
    "    plt.title(train_labels.loc[i, 'IDENTITY'], fontsize=12)\n",
    "    plt.axis('off')\n",
    "\n",
    "plt.subplots_adjust(wspace=0.2, hspace=-0.8)"
   ]
  },
  {
   "cell_type": "markdown",
   "metadata": {},
   "source": [
    "### Data cleaning"
   ]
  },
  {
   "cell_type": "code",
   "execution_count": 14,
   "metadata": {},
   "outputs": [
    {
     "name": "stdout",
     "output_type": "stream",
     "text": [
      "\u001b[34mTRAINING SET :\n",
      " \u001b[0m FILENAME      0\n",
      "IDENTITY    565\n",
      "dtype: int64 \n",
      "\n",
      "\u001b[34mTESTING SET :\n",
      " \u001b[0m FILENAME     0\n",
      "IDENTITY    70\n",
      "dtype: int64 \n",
      "\n",
      "\u001b[34mVALIDATION SET :\n",
      " \u001b[0m FILENAME     0\n",
      "IDENTITY    78\n",
      "dtype: int64 \n",
      "\n"
     ]
    }
   ],
   "source": [
    "# Drop all the missing values as Coldplay drops sounds\n",
    "for i in range(len(LABELS)):\n",
    "    print(Fore.BLUE + SETS[i],\":\\n\",Style.RESET_ALL,LABELS[i].isna().sum(),'\\n')\n",
    "    LABELS[i].dropna(axis=0, inplace=True)"
   ]
  },
  {
   "cell_type": "markdown",
   "metadata": {},
   "source": [
    "Also, there are some images in our data with the label 'UNREADABLE'. Lets check those images and remove them."
   ]
  },
  {
   "cell_type": "code",
   "execution_count": 15,
   "metadata": {},
   "outputs": [
    {
     "data": {
      "image/png": "[encoded data removed]",
      "text/plain": [
       "<Figure size 1080x720 with 6 Axes>"
      ]
     },
     "metadata": {
      "needs_background": "light"
     },
     "output_type": "display_data"
    }
   ],
   "source": [
    "unreadable_samples = train_labels[train_labels['IDENTITY'] == 'UNREADABLE']\n",
    "unreadable_samples.reset_index(inplace = True, drop=True)\n",
    "\n",
    "plt.figure(figsize=(15, 10))\n",
    "\n",
    "for i in range(6):\n",
    "    ax = plt.subplot(2, 3, i+1)\n",
    "    img_dir = TRAIN_PATH + unreadable_samples.loc[i, 'FILENAME']\n",
    "    image = cv2.imread(img_dir, cv2.IMREAD_GRAYSCALE)\n",
    "    plt.imshow(image, cmap = 'gray')\n",
    "    plt.title(unreadable_samples.loc[i, 'IDENTITY'], fontsize=12)\n",
    "    plt.axis('off')\n",
    "\n",
    "plt.subplots_adjust(wspace=0.2, hspace=-0.8)"
   ]
  },
  {
   "cell_type": "code",
   "execution_count": 16,
   "metadata": {},
   "outputs": [
    {
     "name": "stdout",
     "output_type": "stream",
     "text": [
      "\u001b[34mTRAINING SET \u001b[0m\n",
      "<class 'pandas.core.frame.DataFrame'>\n",
      "RangeIndex: 330396 entries, 0 to 330395\n",
      "Data columns (total 2 columns):\n",
      " #   Column    Non-Null Count   Dtype \n",
      "---  ------    --------------   ----- \n",
      " 0   FILENAME  330396 non-null  object\n",
      " 1   IDENTITY  330396 non-null  object\n",
      "dtypes: object(2)\n",
      "memory usage: 5.0+ MB\n",
      "None\n",
      "----------------------------------------\n",
      "\n",
      "\u001b[34mTESTING SET \u001b[0m\n",
      "<class 'pandas.core.frame.DataFrame'>\n",
      "RangeIndex: 41300 entries, 0 to 41299\n",
      "Data columns (total 2 columns):\n",
      " #   Column    Non-Null Count  Dtype \n",
      "---  ------    --------------  ----- \n",
      " 0   FILENAME  41300 non-null  object\n",
      " 1   IDENTITY  41300 non-null  object\n",
      "dtypes: object(2)\n",
      "memory usage: 645.4+ KB\n",
      "None\n",
      "----------------------------------------\n",
      "\n",
      "\u001b[34mVALIDATION SET \u001b[0m\n",
      "<class 'pandas.core.frame.DataFrame'>\n",
      "RangeIndex: 41292 entries, 0 to 41291\n",
      "Data columns (total 2 columns):\n",
      " #   Column    Non-Null Count  Dtype \n",
      "---  ------    --------------  ----- \n",
      " 0   FILENAME  41292 non-null  object\n",
      " 1   IDENTITY  41292 non-null  object\n",
      "dtypes: object(2)\n",
      "memory usage: 645.3+ KB\n",
      "None\n",
      "----------------------------------------\n",
      "\n"
     ]
    }
   ],
   "source": [
    "for table in LABELS:\n",
    "    table = table[table['IDENTITY'] != 'UNREADABLE']\n",
    "\n",
    "for each in (train_labels, test_labels, validation_labels):\n",
    "    each['IDENTITY'] = each['IDENTITY'].str.upper()\n",
    "    each.reset_index(inplace = True, drop = True)\n",
    "    \n",
    "for i in range(3):\n",
    "    print(Fore.BLUE+SETS[i],Style.RESET_ALL)\n",
    "    print(LABELS[i].info())\n",
    "    print('-'*40+'\\n')\n"
   ]
  },
  {
   "cell_type": "markdown",
   "metadata": {},
   "source": [
    "### Starting PySpark session for image processing"
   ]
  },
  {
   "cell_type": "code",
   "execution_count": 17,
   "metadata": {},
   "outputs": [],
   "source": [
    "#!pip install pyspark==2.4.5"
   ]
  },
  {
   "cell_type": "code",
   "execution_count": 18,
   "metadata": {},
   "outputs": [],
   "source": [
    "sc = SparkContext.getOrCreate(conf=SparkConf().setMaster(\"local[*]\"))\n",
    "spark = SparkSession.builder.getOrCreate()"
   ]
  },
  {
   "cell_type": "code",
   "execution_count": 19,
   "metadata": {},
   "outputs": [],
   "source": [
    "from pyspark.sql.types import StructType, StructField, IntegerType\n",
    "from pyspark.sql.functions import lit"
   ]
  },
  {
   "cell_type": "markdown",
   "metadata": {},
   "source": [
    "### Image reading and preprocessing"
   ]
  },
  {
   "cell_type": "code",
   "execution_count": 20,
   "metadata": {},
   "outputs": [],
   "source": [
    "def image_reading(df, size):\n",
    "    x_ = []\n",
    "    for each in range(len(df)):\n",
    "        image_path = TRAIN_PATH + df.loc[each, \"FILENAME\"]\n",
    "        image = cv2.imread(image_path, cv2.IMREAD_GRAYSCALE)\n",
    "        image = preprocessing(image)\n",
    "        x_.append(image)\n",
    "    return x_"
   ]
  },
  {
   "cell_type": "code",
   "execution_count": 21,
   "metadata": {},
   "outputs": [],
   "source": [
    "def preprocessing(image):\n",
    "    (height, width) = image.shape\n",
    "    blanket = np.ones([64, 256]) * 255\n",
    "    if width > 256:\n",
    "        image = image[:, :256]\n",
    "    if height > 64:\n",
    "        image = image[:64, :]\n",
    "    blanket[:height, :width] = image\n",
    "    image = cv2.rotate(blanket, cv2.ROTATE_90_CLOCKWISE)\n",
    "    return (image / 255)"
   ]
  },
  {
   "cell_type": "code",
   "execution_count": null,
   "metadata": {},
   "outputs": [],
   "source": [
    "size = 20\n",
    "x_train = image_reading(train_labels,size)\n",
    "x_validation = image_reading(validation_labels,size/2)\n",
    "x_test = image_reading(test_labels, size/4)"
   ]
  },
  {
   "cell_type": "code",
   "execution_count": null,
   "metadata": {},
   "outputs": [],
   "source": [
    "\n",
    "\n",
    "\n",
    "\n",
    "#train_df = spark.read.format(\"image\").load(TRAIN_PATH)\n",
    "\n",
    "#test_df = spark.read.format(\"image\").load(TEST_PATH)\n",
    "\n",
    "#validation_df = spark.read.format(\"image\").load(VALID_PATH)"
   ]
  },
  {
   "cell_type": "code",
   "execution_count": null,
   "metadata": {},
   "outputs": [],
   "source": [
    "#display(train_df)"
   ]
  },
  {
   "cell_type": "code",
   "execution_count": null,
   "metadata": {},
   "outputs": [],
   "source": [
    "#train_df.printSchema()"
   ]
  },
  {
   "cell_type": "code",
   "execution_count": null,
   "metadata": {},
   "outputs": [],
   "source": [
    "#train_df.toPandas()"
   ]
  },
  {
   "cell_type": "code",
   "execution_count": null,
   "metadata": {},
   "outputs": [],
   "source": []
  },
  {
   "cell_type": "code",
   "execution_count": null,
   "metadata": {},
   "outputs": [],
   "source": []
  },
  {
   "cell_type": "code",
   "execution_count": null,
   "metadata": {},
   "outputs": [],
   "source": []
  },
  {
   "cell_type": "code",
   "execution_count": null,
   "metadata": {},
   "outputs": [],
   "source": []
  }
 ],
 "metadata": {
  "kernelspec": {
   "display_name": "Python 3",
   "language": "python",
   "name": "python3"
  },
  "language_info": {
   "codemirror_mode": {
    "name": "ipython",
    "version": 3
   },
   "file_extension": ".py",
   "mimetype": "text/x-python",
   "name": "python",
   "nbconvert_exporter": "python",
   "pygments_lexer": "ipython3",
   "version": "3.7.6"
  }
 },
 "nbformat": 4,
 "nbformat_minor": 4
}
